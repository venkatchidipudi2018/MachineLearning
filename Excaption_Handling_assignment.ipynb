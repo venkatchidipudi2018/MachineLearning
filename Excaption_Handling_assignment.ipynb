{
 "cells": [
  {
   "cell_type": "code",
   "execution_count": 8,
   "metadata": {},
   "outputs": [
    {
     "name": "stdout",
     "output_type": "stream",
     "text": [
      "5.0\n",
      "2.5\n",
      "value can't devisible by zero\n",
      "1.25\n",
      "1.0\n"
     ]
    }
   ],
   "source": [
    "def handle_exception(num):\n",
    "    try:\n",
    "        val = 5/num    \n",
    "    except ZeroDivisionError:\n",
    "        return (\"Given value can't devisible by zero\")\n",
    "    else:\n",
    "        return val\n",
    "    \n",
    "for i in [1,2,0,4,5]:\n",
    "    n = handle_exception(i)\n",
    "    print (n)"
   ]
  },
  {
   "cell_type": "code",
   "execution_count": 19,
   "metadata": {},
   "outputs": [
    {
     "name": "stdout",
     "output_type": "stream",
     "text": [
      "Americans  play Baseball.\n",
      "Americans  play Cricket.\n",
      "Americans  watch Baseball.\n",
      "Americans  watch Cricket.\n",
      "Indians play Baseball.\n",
      "Indians play Cricket.\n",
      "Indians watch Baseball.\n",
      "Indians watch Cricket.\n"
     ]
    }
   ],
   "source": [
    "def create_sentences(subject, verb, obj):\n",
    "    for sub  in subject:\n",
    "        for ver in verb:\n",
    "            for ob in obj:\n",
    "                print(sub +\" \"+ver+\" \"+ob+\".\")\n",
    "    \n",
    "        \n",
    "subjects=[\"Americans \",\"Indians\"]\n",
    "verbs=[\"play\",\"watch\"]\n",
    "objects=[\"Baseball\",\"Cricket\"]\n",
    "\n",
    "create_sentences(subjects, verbs, objects)"
   ]
  },
  {
   "cell_type": "code",
   "execution_count": null,
   "metadata": {},
   "outputs": [],
   "source": []
  },
  {
   "cell_type": "code",
   "execution_count": null,
   "metadata": {},
   "outputs": [],
   "source": []
  }
 ],
 "metadata": {
  "kernelspec": {
   "display_name": "Python 3",
   "language": "python",
   "name": "python3"
  },
  "language_info": {
   "codemirror_mode": {
    "name": "ipython",
    "version": 3
   },
   "file_extension": ".py",
   "mimetype": "text/x-python",
   "name": "python",
   "nbconvert_exporter": "python",
   "pygments_lexer": "ipython3",
   "version": "3.6.3"
  }
 },
 "nbformat": 4,
 "nbformat_minor": 4
}
