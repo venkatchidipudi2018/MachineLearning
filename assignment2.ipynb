{
 "cells": [
  {
   "cell_type": "code",
   "execution_count": 5,
   "metadata": {},
   "outputs": [
    {
     "name": "stdout",
     "output_type": "stream",
     "text": [
      "10\n"
     ]
    }
   ],
   "source": [
    "def myReduce(func, elements):\n",
    "    val = func(elements)\n",
    "    \n",
    "    return val\n",
    "\n",
    "def sum_of_val(val):\n",
    "    c = 0\n",
    "    for i in val:\n",
    "        c = c + i\n",
    "    return c\n",
    "\n",
    "a = myReduce(sum_of_val, [1, 2, 3, 4])\n",
    "print (a)"
   ]
  },
  {
   "cell_type": "code",
   "execution_count": 6,
   "metadata": {},
   "outputs": [
    {
     "name": "stdout",
     "output_type": "stream",
     "text": [
      "[2, 4, 6, 8, 10]\n"
     ]
    }
   ],
   "source": [
    "def myFilter(func, elements):\n",
    "    val = func(elements)\n",
    "    \n",
    "    return val\n",
    "\n",
    "def find_even(val):\n",
    "    l = []\n",
    "    for i in val:\n",
    "        if i%2 == 0:\n",
    "            l.append(i)\n",
    "    return l\n",
    "\n",
    "a = myFilter(find_even, [1,2,3,4,5,6,7,8,9,10])\n",
    "print (a)"
   ]
  },
  {
   "cell_type": "code",
   "execution_count": 1,
   "metadata": {},
   "outputs": [
    {
     "name": "stdout",
     "output_type": "stream",
     "text": [
      "['A', 'C', 'A', 'D', 'G', 'I', 'L', 'D']\n",
      "['x', 'xx', 'xxx', 'xxxx', 'y', 'yy', 'yyy', 'yyyy', 'z', 'zz', 'zzz', 'zzzz']\n",
      "['x', 'y', 'z', 'xx', 'yy', 'zz', 'xxx', 'yyy', 'zzz', 'xxxx', 'yyyy', 'zzzz']\n"
     ]
    }
   ],
   "source": [
    "print (['A', 'C', 'A', 'D', 'G', 'I', 'L', 'D'])\n",
    "l = ['x','y','z']\n",
    "l1 = []\n",
    "for i in range(len(l)):\n",
    "    l1.append(l[i]*1)\n",
    "    l1.append(l[i]*2)\n",
    "    l1.append(l[i]*3)\n",
    "    l1.append(l[i]*4)\n",
    "    \n",
    "print (l1)\n",
    "\n",
    "l2 = []\n",
    "for j in range((len(l)+1)):\n",
    "    for k in l:\n",
    "        l2.append(int(j+1) * k)\n",
    "        \n",
    "print (l2)"
   ]
  },
  {
   "cell_type": "code",
   "execution_count": 16,
   "metadata": {},
   "outputs": [
    {
     "name": "stdout",
     "output_type": "stream",
     "text": [
      "[[2], [3], [4], [3], [4], [5], [4], [5], [6]]\n"
     ]
    }
   ],
   "source": [
    "l = [2,3,4,5,6]\n",
    "l1 = []\n",
    "for j in range(3):\n",
    "    for i in l[0+j:3+j]:\n",
    "        l2 = []\n",
    "        l2.append(i)\n",
    "        l1.append(l2)\n",
    " \n",
    "print (l1)        \n",
    "    "
   ]
  },
  {
   "cell_type": "code",
   "execution_count": 19,
   "metadata": {},
   "outputs": [
    {
     "name": "stdout",
     "output_type": "stream",
     "text": [
      "[[2, 3, 4, 5], [3, 4, 5, 6], [4, 5, 6, 7], [5, 6, 7, 8]]\n"
     ]
    }
   ],
   "source": [
    "l = [2,3,4,5,6,7,8]\n",
    "l1 = []\n",
    "for j in range(4):\n",
    "    l2 = []\n",
    "    for i in l[0+j:4+j]:\n",
    "        l2.append(i)\n",
    "    l1.append(l2)\n",
    " \n",
    "print (l1)   "
   ]
  },
  {
   "cell_type": "code",
   "execution_count": 26,
   "metadata": {},
   "outputs": [
    {
     "name": "stdout",
     "output_type": "stream",
     "text": [
      "[(1, 1), (2, 1), (3, 1), (1, 2), (2, 2), (3, 2), (1, 3), (2, 3), (3, 3)]\n"
     ]
    }
   ],
   "source": [
    "def create_tuple(v1, v2):\n",
    "    return(v1, v2)\n",
    "    \n",
    "l = [1,2,3]\n",
    "l1 = []\n",
    "for i in l:\n",
    "    for j in l:\n",
    "        val = create_tuple(j, i)\n",
    "        l1.append(val)\n",
    "        \n",
    "print (l1)"
   ]
  },
  {
   "cell_type": "code",
   "execution_count": 49,
   "metadata": {},
   "outputs": [
    {
     "name": "stdout",
     "output_type": "stream",
     "text": [
      "bangalore\n"
     ]
    }
   ],
   "source": [
    "def longestWord(lst):\n",
    "    new_lst = []\n",
    "    for i in lst:\n",
    "        new_lst.append((len(i), i))\n",
    "    new_lst.sort()\n",
    "    return new_lst[-1][1]\n",
    "    \n",
    "    \n",
    "word = longestWord([\"urdu\",\"bangalore\", \"rajaja\",\"admin\",\"hindi\",\"english\"])\n",
    "\n",
    "print (word)\n"
   ]
  },
  {
   "cell_type": "code",
   "execution_count": 65,
   "metadata": {},
   "outputs": [],
   "source": [
    "class Triangle:\n",
    "    def __init__(a, l, b, h):\n",
    "        a.l = l\n",
    "        a.b = b\n",
    "        a.h = h\n",
    "    \n",
    "    def area(a):\n",
    "        s = (a.l+a.b+a.h)/2\n",
    "        b = (s*(s-a.l)*(s-a.b)*(s-a.h)) ** 0.5\n",
    "        return b"
   ]
  },
  {
   "cell_type": "code",
   "execution_count": 66,
   "metadata": {},
   "outputs": [
    {
     "name": "stdout",
     "output_type": "stream",
     "text": [
      "59.81168364124187\n"
     ]
    }
   ],
   "source": [
    "t = Triangle(10, 12, 15)\n",
    "tarea = t.area()\n",
    "print (tarea)"
   ]
  },
  {
   "cell_type": "code",
   "execution_count": 67,
   "metadata": {},
   "outputs": [],
   "source": [
    "def filter_long_words(lst, n):\n",
    "    f_lst = []\n",
    "    for i in lst:\n",
    "        if len(i) > n:\n",
    "            f_lst.append(i)\n",
    "    return f_lst"
   ]
  },
  {
   "cell_type": "code",
   "execution_count": 70,
   "metadata": {},
   "outputs": [
    {
     "data": {
      "text/plain": [
       "['venkat', 'krish', 'tejas']"
      ]
     },
     "execution_count": 70,
     "metadata": {},
     "output_type": "execute_result"
    }
   ],
   "source": [
    "filter_long_words([\"venkat\", \"siva\", \"krish\", \"tejas\"], 4)"
   ]
  },
  {
   "cell_type": "code",
   "execution_count": 78,
   "metadata": {},
   "outputs": [],
   "source": [
    "def len_word(lst):\n",
    "    return len(lst)"
   ]
  },
  {
   "cell_type": "code",
   "execution_count": 79,
   "metadata": {},
   "outputs": [
    {
     "data": {
      "text/plain": [
       "[6, 4, 5, 5]"
      ]
     },
     "execution_count": 79,
     "metadata": {},
     "output_type": "execute_result"
    }
   ],
   "source": [
    "list(map(len_word, [\"venkat\", \"siva\", \"krish\", \"tejas\"]))"
   ]
  },
  {
   "cell_type": "code",
   "execution_count": 89,
   "metadata": {},
   "outputs": [],
   "source": [
    "def find_vowel(word):\n",
    "    vowels = [\"A\", \"E\", \"I\", \"O\", \"U\", \"a\", \"e\", \"i\", \"o\", \"u\"]\n",
    "    if word in vowels:\n",
    "        return True\n",
    "    else:\n",
    "        return False"
   ]
  },
  {
   "cell_type": "code",
   "execution_count": 90,
   "metadata": {},
   "outputs": [
    {
     "data": {
      "text/plain": [
       "True"
      ]
     },
     "execution_count": 90,
     "metadata": {},
     "output_type": "execute_result"
    }
   ],
   "source": [
    "find_vowel(\"E\")"
   ]
  },
  {
   "cell_type": "code",
   "execution_count": null,
   "metadata": {},
   "outputs": [],
   "source": []
  }
 ],
 "metadata": {
  "kernelspec": {
   "display_name": "Python 3",
   "language": "python",
   "name": "python3"
  },
  "language_info": {
   "codemirror_mode": {
    "name": "ipython",
    "version": 3
   },
   "file_extension": ".py",
   "mimetype": "text/x-python",
   "name": "python",
   "nbconvert_exporter": "python",
   "pygments_lexer": "ipython3",
   "version": "3.6.3"
  }
 },
 "nbformat": 4,
 "nbformat_minor": 4
}
