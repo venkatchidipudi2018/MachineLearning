{
 "cells": [
  {
   "cell_type": "code",
   "execution_count": 1,
   "metadata": {},
   "outputs": [
    {
     "name": "stdout",
     "output_type": "stream",
     "text": [
      "1\n",
      "2\n",
      "3\n"
     ]
    }
   ],
   "source": [
    "# Generator-Function : A generator-function is defined like a normal function, but whenever it needs to generate a value, \n",
    "# it does so with the yield keyword rather than return. \n",
    "# If the body of a def contains yield, the function automatically becomes a generator function\n",
    "\n",
    "def myGenerator(): \n",
    "    yield 1            \n",
    "    yield 2            \n",
    "    yield 3            \n",
    "   \n",
    "for value in myGenerator():  \n",
    "    print(value) "
   ]
  },
  {
   "cell_type": "code",
   "execution_count": 3,
   "metadata": {},
   "outputs": [
    {
     "name": "stdout",
     "output_type": "stream",
     "text": [
      "1\n",
      "2\n",
      "3\n"
     ]
    }
   ],
   "source": [
    "def myGenerator(): \n",
    "    yield 1\n",
    "    yield 2\n",
    "    yield 3\n",
    "   \n",
    "\n",
    "x = myGenerator()\n",
    "print(next(x))  \n",
    "print(next(x)) \n",
    "print(next(x)) "
   ]
  },
  {
   "cell_type": "code",
   "execution_count": 5,
   "metadata": {},
   "outputs": [
    {
     "data": {
      "text/plain": [
       "<generator object gen_func at 0x0074C6F0>"
      ]
     },
     "execution_count": 5,
     "metadata": {},
     "output_type": "execute_result"
    }
   ],
   "source": [
    "def gen_func(l):\n",
    "    for i in l:\n",
    "        yield (i*i)\n",
    "\n",
    "my_gen = gen_func([1,2,3,4,5])\n",
    "\n",
    "my_gen"
   ]
  },
  {
   "cell_type": "code",
   "execution_count": 6,
   "metadata": {},
   "outputs": [
    {
     "name": "stdout",
     "output_type": "stream",
     "text": [
      "[1, 4, 9, 16, 25]\n"
     ]
    }
   ],
   "source": [
    "print (list(my_gen))\n",
    "\n",
    "for i in my_gen:\n",
    "    print (i)"
   ]
  },
  {
   "cell_type": "code",
   "execution_count": null,
   "metadata": {},
   "outputs": [],
   "source": []
  }
 ],
 "metadata": {
  "kernelspec": {
   "display_name": "Python 3",
   "language": "python",
   "name": "python3"
  },
  "language_info": {
   "codemirror_mode": {
    "name": "ipython",
    "version": 3
   },
   "file_extension": ".py",
   "mimetype": "text/x-python",
   "name": "python",
   "nbconvert_exporter": "python",
   "pygments_lexer": "ipython3",
   "version": "3.6.3"
  }
 },
 "nbformat": 4,
 "nbformat_minor": 4
}
